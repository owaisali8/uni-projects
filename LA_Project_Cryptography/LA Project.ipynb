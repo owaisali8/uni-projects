{
 "cells": [
  {
   "cell_type": "markdown",
   "metadata": {},
   "source": [
    "<h1 style = \"font-family:verdana;\">LA Project: Cryptography</h1>\n",
    "\n",
    "Mohammad Mohsin 22837  \n",
    "Syed Owais Ali 23053"
   ]
  },
  {
   "cell_type": "markdown",
   "metadata": {},
   "source": [
    "Cryptography is the study of encoding and decoding secret messages. Code are called ciphers, uncoded messages are called plaintext, and coded messages are called ciphertext.  \n",
    "The process of converting a plaintext to a ciphertext is called encoding.  \n",
    "The process of converting a ciphertext to a plaintext is called decoding.\n",
    "\n",
    "![image](https://cdn.ttgtmedia.com/rms/onlineImages/security_cissp_cryptography_mobile.jpg)"
   ]
  },
  {
   "cell_type": "markdown",
   "metadata": {},
   "source": [
    "<h2 style = \"font-family:verdana;\">1) Polygraphic System:</h2>"
   ]
  },
  {
   "cell_type": "markdown",
   "metadata": {},
   "source": [
    "We will use Polygraphic System which uses Matrix to encode and decode our plaintext.  \n",
    "First we will associate a number with every letter of alphabet."
   ]
  },
  {
   "cell_type": "markdown",
   "metadata": {},
   "source": [
    "![image](https://www.math.ucdavis.edu/~daddel/linear_algebra_appl/Applications/cryptography/cryptograph_9_17/img1.gif)\n",
    "![enter image description here](https://www.math.ucdavis.edu/~daddel/linear_algebra_appl/Applications/cryptography/cryptograph_9_17/img2.gif)"
   ]
  },
  {
   "cell_type": "markdown",
   "metadata": {},
   "source": [
    "Then we will suppose nxn matrix A:"
   ]
  },
  {
   "cell_type": "markdown",
   "metadata": {},
   "source": [
    "In this case we suppose n = 3\n",
    "$$A =  \\begin{bmatrix}0 & 2 & -1 \\\\1 & -2 & 1 \\\\-1 & -1 & 1 \\end{bmatrix} $$"
   ]
  },
  {
   "cell_type": "markdown",
   "metadata": {},
   "source": [
    "and compute its inverse A<sup>-1</sup>\n",
    "$$A^{-1} =  \\begin{bmatrix}1 & 1 & 0 \\\\2 & 1 & 1 \\\\3 & 2 & 2 \\end{bmatrix} $$"
   ]
  },
  {
   "cell_type": "markdown",
   "metadata": {},
   "source": [
    "Both communicating parties should have knowledge of the conversion table, the matrices A and $A^{-1}$  \n",
    "We can call this a <b>protocol</b> or a set of rules between two parties.  \n",
    "In order to send an encrypted message, the sending party will first convert text into numbers. Then it will make groups of nx1 vectors. It will then find product of those numbers with A. The result will be cipher text, the encrypted message can now be sent.  \n",
    "The receiving party will receive the cipher text, again make groups of nx1, then it will find product of these vector with $A^{-1}$. It will then convert those numbers back to text. Our cipher text is now converted back to plaintext."
   ]
  },
  {
   "cell_type": "markdown",
   "metadata": {},
   "source": [
    "<h3 style = \"font-family:verdana;\">Example 1:</h3>"
   ]
  },
  {
   "cell_type": "markdown",
   "metadata": {},
   "source": [
    "Suppose we want to encode and send the following message:\n",
    "<span align = \"center\">\"STUDY LINEAR ALGEBRA\"</span>  \n",
    "Using the conversion table above, we will convert this into numbers:\n",
    "19 20 21 4 25 12 9 14 5 1 18 1 12 7 5 2 18 1.  \n",
    "Then, we divide the numbers into groups of 3 and write each group in the form of a $ 3\\times 1$ vector."
   ]
  },
  {
   "cell_type": "markdown",
   "metadata": {},
   "source": [
    " $\\begin{bmatrix}19  \\\\20 \\\\21 ​\\end{bmatrix}$, $\\begin{bmatrix}4  \\\\25 \\\\12 ​\\end{bmatrix}$, $\\begin{bmatrix}9  \\\\14 \\\\5 ​\\end{bmatrix}$, $\\begin{bmatrix}1  \\\\18 \\\\1 ​\\end{bmatrix}$, $\\begin{bmatrix}12  \\\\7 \\\\5 ​\\end{bmatrix}$, $\\begin{bmatrix}2  \\\\18 \\\\1 ​\\end{bmatrix}$  "
   ]
  },
  {
   "cell_type": "markdown",
   "metadata": {},
   "source": [
    "We will now find the product of A with these vectors.  \n",
    "  \n",
    " $A\\begin{bmatrix}19  \\\\20 \\\\21 ​\\end{bmatrix}$,  $A\\begin{bmatrix}4  \\\\25 \\\\12 ​\\end{bmatrix}$, $A\\begin{bmatrix}9  \\\\14 \\\\5 ​\\end{bmatrix}$, $A\\begin{bmatrix}1  \\\\18 \\\\1 ​\\end{bmatrix}$, $A\\begin{bmatrix}12  \\\\7 \\\\5 ​\\end{bmatrix}$, $A\\begin{bmatrix}2  \\\\18 \\\\1 ​\\end{bmatrix}$  "
   ]
  },
  {
   "cell_type": "markdown",
   "metadata": {},
   "source": [
    "This will result in the following vectors:"
   ]
  },
  {
   "cell_type": "markdown",
   "metadata": {},
   "source": [
    " $\\begin{bmatrix}19  \\\\0 \\\\-18 ​\\end{bmatrix}$, $\\begin{bmatrix}38  \\\\-34 \\\\-17 ​\\end{bmatrix}$, $\\begin{bmatrix}23  \\\\-14 \\\\-18 ​\\end{bmatrix}$, $\\begin{bmatrix}35  \\\\-34 \\\\-18 ​\\end{bmatrix}$, $\\begin{bmatrix}9  \\\\3 \\\\-14 ​\\end{bmatrix}$, $\\begin{bmatrix}35  \\\\-33 \\\\-19 ​\\end{bmatrix}$ "
   ]
  },
  {
   "cell_type": "markdown",
   "metadata": {},
   "source": [
    "Now our message is encrypted: 19 0 -18 38 -34 -17 23 -14 -18 25 -34 -18 9 3 -14 35 -33 -19"
   ]
  },
  {
   "cell_type": "markdown",
   "metadata": {},
   "source": [
    "Receiving party will divide this group of numbers into 3x1 vectors and compute its product with $A^{-1}$:"
   ]
  },
  {
   "cell_type": "markdown",
   "metadata": {},
   "source": [
    " $A^{-1}\\begin{bmatrix}19  \\\\0 \\\\-18 ​\\end{bmatrix}$, $A^{-1}\\begin{bmatrix}38  \\\\-34 \\\\-17 ​\\end{bmatrix}$, $A^{-1}\\begin{bmatrix}23  \\\\-14 \\\\-18 ​\\end{bmatrix}$, $A^{-1}\\begin{bmatrix}35  \\\\-34 \\\\-18 ​\\end{bmatrix}$, $A^{-1}\\begin{bmatrix}9  \\\\3 \\\\-14 ​\\end{bmatrix}$, $A^{-1}\\begin{bmatrix}35  \\\\-33 \\\\-19 ​\\end{bmatrix}$ "
   ]
  },
  {
   "cell_type": "markdown",
   "metadata": {},
   "source": [
    "Reciever has decrypted the cipher text.\n",
    "  \n",
    " $\\begin{bmatrix}19  \\\\20 \\\\21 ​\\end{bmatrix}$, $\\begin{bmatrix}4  \\\\25 \\\\12 ​\\end{bmatrix}$, $\\begin{bmatrix}9  \\\\14 \\\\5 ​\\end{bmatrix}$, $\\begin{bmatrix}1  \\\\18 \\\\1 ​\\end{bmatrix}$, $\\begin{bmatrix}12  \\\\7 \\\\5 ​\\end{bmatrix}$, $\\begin{bmatrix}2  \\\\18 \\\\1 ​\\end{bmatrix}$  \n",
    "   \n",
    " This can now be converted back to the original text: \"STUDY LINEAR ALGEBRA\""
   ]
  },
  {
   "cell_type": "markdown",
   "metadata": {},
   "source": [
    "<h3 style = \"font-family:verdana;\">Example 2:</h3>"
   ]
  },
  {
   "cell_type": "markdown",
   "metadata": {},
   "source": [
    "Suppose we want to encode and send the following message:\n",
    "<span align = \"center\">\"HELLO WORLD\"</span>  \n",
    "Using the conversion table above, we will convert this into numbers:\n",
    "8 5 12 12 15 23 15 18 12 4  \n",
    "Then, we divide the numbers into groups of 3 and write each group in the form of a $ 3\\times 1$ vector."
   ]
  },
  {
   "cell_type": "markdown",
   "metadata": {},
   "source": [
    " $\\begin{bmatrix}8  \\\\5 \\\\12 ​\\end{bmatrix}$, $\\begin{bmatrix}12  \\\\15 \\\\23 ​\\end{bmatrix}$, $\\begin{bmatrix}15  \\\\18 \\\\12 ​\\end{bmatrix}$, $\\begin{bmatrix}4  \\\\X \\\\X ​\\end{bmatrix}$ "
   ]
  },
  {
   "cell_type": "markdown",
   "metadata": {},
   "source": [
    "Notice that the number of the letters in the plaintext is not divisible by 3, therefore, we add a dummy number -1 equivalent to space."
   ]
  },
  {
   "cell_type": "markdown",
   "metadata": {},
   "source": [
    " $\\begin{bmatrix}8  \\\\5 \\\\12 ​\\end{bmatrix}$, $\\begin{bmatrix}12  \\\\15 \\\\23 ​\\end{bmatrix}$, $\\begin{bmatrix}15  \\\\18 \\\\12 ​\\end{bmatrix}$, $\\begin{bmatrix}4  \\\\-1 \\\\-1 ​\\end{bmatrix}$ "
   ]
  },
  {
   "cell_type": "markdown",
   "metadata": {},
   "source": [
    "We will now find the product of A with these vectors.     \n",
    "  \n",
    " $A\\begin{bmatrix}8  \\\\5 \\\\12 ​\\end{bmatrix}$, $A\\begin{bmatrix}12  \\\\15 \\\\23 ​\\end{bmatrix}$, $A\\begin{bmatrix}15  \\\\18 \\\\12 ​\\end{bmatrix}$, $A\\begin{bmatrix}4  \\\\-1 \\\\-1 ​\\end{bmatrix}$ "
   ]
  },
  {
   "cell_type": "markdown",
   "metadata": {},
   "source": [
    "This will result in the following vectors:  \n",
    "  \n",
    " $\\begin{bmatrix}-2  \\\\10 \\\\-1 ​\\end{bmatrix}$, $\\begin{bmatrix}7  \\\\5 \\\\-4 ​\\end{bmatrix}$, $\\begin{bmatrix}24  \\\\-9 \\\\-21 ​\\end{bmatrix}$, $\\begin{bmatrix}-1  \\\\5 \\\\-4 ​\\end{bmatrix}$ "
   ]
  },
  {
   "cell_type": "markdown",
   "metadata": {},
   "source": [
    "Now our message is encrypted: -2 10 -1 7 5 -4 24 -9 -21 -1 5 -4"
   ]
  },
  {
   "cell_type": "markdown",
   "metadata": {},
   "source": [
    "Receiving party will divide this group of numbers into 3x1 vectors and compute its product with  $𝐴^{−1}$ \n",
    "Reciever has decrypted the cipher text.  \n",
    "This can now be converted back to the original text: \"HELLO WORLD\""
   ]
  },
  {
   "cell_type": "markdown",
   "metadata": {},
   "source": [
    "<h3 style = \"font-family:verdana;\">Coding:</h3>"
   ]
  },
  {
   "cell_type": "markdown",
   "metadata": {},
   "source": [
    "We will use python to implement Polygraphic System  \n",
    "\n",
    "What is numpy?  \n",
    "NumPy is a library for the Python programming language, adding support for large, multi-dimensional arrays and matrices, along with a large collection of high-level mathematical functions to operate on these arrays"
   ]
  },
  {
   "cell_type": "code",
   "execution_count": 1,
   "metadata": {},
   "outputs": [],
   "source": [
    "import numpy as np"
   ]
  },
  {
   "cell_type": "markdown",
   "metadata": {},
   "source": [
    "We will now assign our conversion table and matrix A  \n",
    "Note: Matrix A and conversion table can differ but must be same between two parties  \n",
    "For example: We can take A as 2x2 ,3x3 or even 4x4 Matrix"
   ]
  },
  {
   "cell_type": "code",
   "execution_count": 2,
   "metadata": {},
   "outputs": [],
   "source": [
    "conversion_table = {\n",
    "    -1:'',1:'a', 2:'b', 3:'c', 4:'d', 5:'e', 6:'f', 7:'g', 8:'h', 9:'i', 10:'j', 11:'k', 12:'l', 13:'m', 14:'n', 15:'o',\n",
    "    16:'p', 17:'q', 18:'r', 19:'s', 20:'t', 21:'u', 22:'v', 23:'w', 24:'x', 25:'y', 26:'z'} "
   ]
  },
  {
   "cell_type": "code",
   "execution_count": 3,
   "metadata": {},
   "outputs": [],
   "source": [
    "A = np.array([\n",
    "    [0, 2, -1],\n",
    "    [1, -2., 1],\n",
    "    [-1, -1, 1]])\n",
    "\n",
    "A_inverse = np.linalg.inv(A)"
   ]
  },
  {
   "cell_type": "markdown",
   "metadata": {},
   "source": [
    "We will now define our encrypt and decrypt function"
   ]
  },
  {
   "cell_type": "code",
   "execution_count": 4,
   "metadata": {},
   "outputs": [],
   "source": [
    "inv_dict = {value:key for key, value in conversion_table.items()}\n",
    "def convert_text_to_number(text):\n",
    "    c = list(text)\n",
    "    num = []\n",
    "    for i in c:\n",
    "        num.append(inv_dict.get(i.lower()))\n",
    "    return num\n",
    "\n",
    "\n",
    "def convert_number_to_text(num):\n",
    "    s =\"\"\n",
    "    for i in num:\n",
    "        s += (conversion_table.get(i).upper())\n",
    "    return s\n",
    "\n",
    "\n",
    "def encrypt(text):\n",
    "    text = text.replace(\" \",\"\")\n",
    "    num = convert_text_to_number(text)\n",
    "    while (len(num)%3 != 0):\n",
    "        num.append(-1)\n",
    "    num = np.array(num)\n",
    "    num = np.reshape(num,(-1,3)).T\n",
    "    cipher_text = np.dot(A,num)\n",
    "    cipher_text = np.round(cipher_text.T.flatten())\n",
    "    return cipher_text\n",
    "\n",
    "\n",
    "def decrypt(cipher_text):\n",
    "    num = cipher_text\n",
    "    num = np.reshape(num,(-1,3)).T\n",
    "    plain_text = np.dot(A_inverse,num)\n",
    "    plain_text = plain_text.T.flatten()\n",
    "    plain_text = np.round(plain_text)\n",
    "    text = convert_number_to_text(plain_text)\n",
    "    return text\n",
    "\n"
   ]
  },
  {
   "cell_type": "markdown",
   "metadata": {},
   "source": [
    "Testing Example 1 with our code:"
   ]
  },
  {
   "cell_type": "code",
   "execution_count": 5,
   "metadata": {
    "scrolled": true
   },
   "outputs": [
    {
     "name": "stdout",
     "output_type": "stream",
     "text": [
      "Cipher Text:  [ 19.   0. -18.  38. -34. -17.  23. -14. -18.  35. -34. -18.   9.   3.\n",
      " -14.  35. -33. -19.]\n",
      "Plaintext after decryption:  STUDYLINEARALGEBRA\n"
     ]
    }
   ],
   "source": [
    "s =\"STUDY LINEAR ALGEBRA\"\n",
    "cipher_text = encrypt(s)\n",
    "print(\"Cipher Text: \",cipher_text)\n",
    "text = decrypt(cipher_text)\n",
    "print(\"Plaintext after decryption: \",text)"
   ]
  },
  {
   "cell_type": "markdown",
   "metadata": {},
   "source": [
    "Testing Example 2 with our code:"
   ]
  },
  {
   "cell_type": "code",
   "execution_count": 6,
   "metadata": {
    "scrolled": false
   },
   "outputs": [
    {
     "name": "stdout",
     "output_type": "stream",
     "text": [
      "Cipher Text:  [ -2.  10.  -1.   7.   5.  -4.  24.  -9. -21.  -1.   5.  -4.]\n",
      "Plaintext after decryption:  HELLOWORLD\n"
     ]
    }
   ],
   "source": [
    "s =\"HELLO WORLD\"\n",
    "num = encrypt(s)\n",
    "text = decrypt(num)\n",
    "print(\"Cipher Text: \",num)\n",
    "print(\"Plaintext after decryption: \",text)"
   ]
  },
  {
   "cell_type": "markdown",
   "metadata": {},
   "source": [
    "<h2 style = \"font-family:verdana;\">2) Hill Cipher:</h2>"
   ]
  },
  {
   "cell_type": "markdown",
   "metadata": {},
   "source": [
    "Hill Cipher uses the same method as Polygraphic System with additional complexity. The more complex is your algorithm, the more security it ensures. "
   ]
  },
  {
   "cell_type": "markdown",
   "metadata": {},
   "source": [
    "The encryption algorithm of this method\n",
    "is:\n",
    "$$C \\equiv AP  mod N$$\n",
    "where:  \n",
    "A is nxn key matrix  \n",
    "P is the plaintext vector   \n",
    "N is the number of letters in conversion table."
   ]
  },
  {
   "cell_type": "markdown",
   "metadata": {},
   "source": [
    "Similarly, The decryption algorithm of this method is:\n",
    "$$P \\equiv A^{-1}C  mod N$$"
   ]
  },
  {
   "cell_type": "markdown",
   "metadata": {},
   "source": [
    "This algorithm converts ciphertext into comlete gibberish.  \n",
    "For instace we take our First example: STUDY LINEAR ALGEBRA  \n",
    "Now our message is converted to ciphertext: 19 0 -18 38 -34 -17 23 -14 -18 25 -34 -18 9 3 -14 35 -33 -19  \n",
    "After taking mod 27 these number will convert to: 19 0 9 11 20 10 23 13 9 35 20 9 9 3 13 8 21 8  \n",
    "Now the text converts to: SISIKTJWMIYTIICMHUH  \n",
    "The text is now completely unreadable"
   ]
  },
  {
   "cell_type": "markdown",
   "metadata": {},
   "source": [
    "To decrypt we will first multiply these vectors to $A^{-1}$"
   ]
  },
  {
   "cell_type": "markdown",
   "metadata": {},
   "source": [
    " $A^{-1}\\begin{bmatrix}19  \\\\0 \\\\9 ​\\end{bmatrix}$, $A^{-1}\\begin{bmatrix}11  \\\\20 \\\\10 ​\\end{bmatrix}$, $A^{-1}\\begin{bmatrix}23  \\\\13 \\\\9 ​\\end{bmatrix}$, $A^{-1}\\begin{bmatrix}35  \\\\20 \\\\9 ​\\end{bmatrix}$, $A^{-1}\\begin{bmatrix}9  \\\\3 \\\\13 ​\\end{bmatrix}$, $A^{-1}\\begin{bmatrix}8  \\\\21 \\\\8 ​\\end{bmatrix}$ "
   ]
  },
  {
   "cell_type": "markdown",
   "metadata": {},
   "source": [
    " $\\begin{bmatrix}19  \\\\47 \\\\75 ​\\end{bmatrix}$, $\\begin{bmatrix}31  \\\\52 \\\\93 ​\\end{bmatrix}$, $\\begin{bmatrix}36  \\\\78 \\\\133 ​\\end{bmatrix}$, $\\begin{bmatrix}55  \\\\99 \\\\163 ​\\end{bmatrix}$, $\\begin{bmatrix}12  \\\\34 \\\\59 ​\\end{bmatrix}$, $\\begin{bmatrix}29  \\\\45 \\\\82 ​\\end{bmatrix}$  "
   ]
  },
  {
   "cell_type": "markdown",
   "metadata": {},
   "source": [
    "After taking mod27 of these matrices we will get back our original matrice"
   ]
  },
  {
   "cell_type": "markdown",
   "metadata": {},
   "source": [
    " $\\begin{bmatrix}19  \\\\20 \\\\21 ​\\end{bmatrix}$, $\\begin{bmatrix}4  \\\\25 \\\\12 ​\\end{bmatrix}$, $\\begin{bmatrix}9  \\\\14 \\\\5 ​\\end{bmatrix}$, $\\begin{bmatrix}1  \\\\18 \\\\1 ​\\end{bmatrix}$, $\\begin{bmatrix}12  \\\\7 \\\\5 ​\\end{bmatrix}$, $\\begin{bmatrix}2  \\\\18 \\\\1 ​\\end{bmatrix}$ $mod27$"
   ]
  },
  {
   "cell_type": "markdown",
   "metadata": {},
   "source": [
    "This can now be converted back to the original text: \"STUDY LINEAR ALGEBRA\""
   ]
  },
  {
   "cell_type": "markdown",
   "metadata": {},
   "source": [
    "In order to implement Hill Cipher in our code we have to add (array%27) in our encrypt and decrypt method."
   ]
  },
  {
   "cell_type": "markdown",
   "metadata": {},
   "source": [
    "<h3 style = \"font-family:verdana;\">Using More Than One Key in Hill Cipher:</h3>"
   ]
  },
  {
   "cell_type": "markdown",
   "metadata": {},
   "source": [
    "We\n",
    "can use the associative property of matrices to make the coding process more complex\n",
    "and more secure. Therefore; if we have two invertible key matrices\n",
    "AB,\n",
    "and a plaintext\n",
    "column vector\n",
    "P\n",
    ", then the encryption algorithm is\n",
    "  \n",
    "$$C \\equiv ABP  mod N$$"
   ]
  },
  {
   "cell_type": "markdown",
   "metadata": {},
   "source": [
    "Similarly, The decryption algorithm of this method is:\n",
    "$$P \\equiv (AB)^{-1}C  mod N$$"
   ]
  },
  {
   "cell_type": "markdown",
   "metadata": {},
   "source": [
    "<h3 style = \"font-family:verdana;\">Generalizing the Algorithm: </h3>"
   ]
  },
  {
   "cell_type": "markdown",
   "metadata": {},
   "source": [
    "In this case we can use\n",
    "n number\n",
    "of invertible matrices to encode or decode any\n",
    "message and the steps will be the same. This means that, if we have the invertible\n",
    "matrices\n",
    "(A B C......... M)\n",
    "then the encryption algorithm will be:\n",
    "  \n",
    "$$C \\equiv (A B C......... M)P  mod N$$"
   ]
  },
  {
   "cell_type": "markdown",
   "metadata": {},
   "source": [
    "Similarly, The decryption algorithm of this method is:\n",
    "$$P \\equiv (ABC.........M)^{-1}C  mod N$$"
   ]
  },
  {
   "cell_type": "markdown",
   "metadata": {},
   "source": [
    "<h3 style = \"font-family:verdana;\">Example: </h3>"
   ]
  },
  {
   "cell_type": "markdown",
   "metadata": {},
   "source": [
    "We will encode and decode the following message(I AM SMART) by using the matrices\n",
    " \n",
    "  \n",
    "  \n",
    "$$A =  \\begin{bmatrix}2 & 1 \\\\1 & 0\\end{bmatrix} \n",
    " B =  \\begin{bmatrix}3 & 2 \\\\4 & 3\\end{bmatrix} $$"
   ]
  },
  {
   "cell_type": "markdown",
   "metadata": {},
   "source": [
    "The inverse of the following matrices are: \n",
    "$$A^{-1} =  \\begin{bmatrix}0 & 1 \\\\1 & -2\\end{bmatrix} \n",
    " B^{-1} =  \\begin{bmatrix}3 & -2 \\\\-4 & 3\\end{bmatrix} $$"
   ]
  },
  {
   "cell_type": "markdown",
   "metadata": {},
   "source": [
    "Using the conversion table above, we will convert this into numbers: 9 1 13 19 13 1 18 20"
   ]
  },
  {
   "cell_type": "markdown",
   "metadata": {},
   "source": [
    "Then, we divide the numbers into groups of 2 and write each group in the form of a 2×1 vector.  \n",
    "\n",
    "$\\begin{bmatrix}9  \\\\1\\end{bmatrix}, \\begin{bmatrix}13  \\\\19\\end{bmatrix}, \\begin{bmatrix}13  \\\\1\\end{bmatrix}, \\begin{bmatrix}18  \\\\20\\end{bmatrix}$"
   ]
  },
  {
   "cell_type": "markdown",
   "metadata": {},
   "source": [
    "We will now find the product of A and B with these vectors, and then mod27  \n",
    "\n",
    "$AB\\begin{bmatrix}9  \\\\1\\end{bmatrix}, AB\\begin{bmatrix}13  \\\\19\\end{bmatrix}, AB\\begin{bmatrix}13  \\\\1\\end{bmatrix}, AB\\begin{bmatrix}18  \\\\20\\end{bmatrix}mod27$ "
   ]
  },
  {
   "cell_type": "markdown",
   "metadata": {},
   "source": [
    "This will result in the following cipher vectors:  \n",
    "\n",
    "$\\begin{bmatrix}16  \\\\2\\end{bmatrix}, \\begin{bmatrix}20  \\\\23\\end{bmatrix}, \\begin{bmatrix}2  \\\\14\\end{bmatrix}, \\begin{bmatrix}23  \\\\13\\end{bmatrix}$\n",
    "  \n",
    "Now the text converts to: PBTWBNWM"
   ]
  },
  {
   "cell_type": "markdown",
   "metadata": {},
   "source": [
    "In order to decrypt, we will find prduct of ciphertext vectors with $A^{-1}$ and $B^{-1}$, and then mod27  \n",
    "\n",
    "$(AB)^{-1}\\begin{bmatrix}16  \\\\2\\end{bmatrix}, (AB)^{-1}\\begin{bmatrix}20  \\\\23\\end{bmatrix}, (AB)^{-1}\\begin{bmatrix}2  \\\\14\\end{bmatrix}, (AB)^{-1}\\begin{bmatrix}23  \\\\13\\end{bmatrix}mod27$ "
   ]
  },
  {
   "cell_type": "markdown",
   "metadata": {},
   "source": [
    "This will decrypt our ciphertext back to plain text which can be converted to our message(I AM SMART)"
   ]
  },
  {
   "cell_type": "markdown",
   "metadata": {},
   "source": [
    "### References:\n",
    "Cryptography by Means of Linear Algebra\n",
    "and Number Theory by Ajaeb Elfadel  \n",
    "http://i-rep.emu.edu.tr:8080/xmlui/bitstream/handle/11129/1420/ElfadelAjaeb.pdf?sequence=1"
   ]
  },
  {
   "cell_type": "markdown",
   "metadata": {},
   "source": [
    "Applications of Linear Algebra:  \n",
    "https://www.math.ucdavis.edu/~daddel/linear_algebra_appl/Applications/applications.html"
   ]
  }
 ],
 "metadata": {
  "kernelspec": {
   "display_name": "Python 3",
   "language": "python",
   "name": "python3"
  },
  "language_info": {
   "codemirror_mode": {
    "name": "ipython",
    "version": 3
   },
   "file_extension": ".py",
   "mimetype": "text/x-python",
   "name": "python",
   "nbconvert_exporter": "python",
   "pygments_lexer": "ipython3",
   "version": "3.8.5"
  }
 },
 "nbformat": 4,
 "nbformat_minor": 4
}
